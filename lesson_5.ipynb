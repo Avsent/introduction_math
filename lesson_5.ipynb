{
 "cells": [
  {
   "cell_type": "markdown",
   "metadata": {},
   "source": [
    "# 1. Напишите код, моделирующий выпадение поля в рулетке (с учетом поля зеро)."
   ]
  },
  {
   "cell_type": "code",
   "execution_count": 1,
   "metadata": {},
   "outputs": [],
   "source": [
    "import numpy as np"
   ]
  },
  {
   "cell_type": "code",
   "execution_count": 2,
   "metadata": {},
   "outputs": [
    {
     "name": "stdout",
     "output_type": "stream",
     "text": [
      "\n",
      "black\n",
      "\n",
      "red\n",
      "\n",
      "black\n",
      "\n",
      "black\n",
      "\n",
      "black\n",
      "\n",
      "black\n",
      "\n",
      "red\n",
      "\n",
      "red\n",
      "\n",
      "red\n",
      "\n",
      "red\n"
     ]
    }
   ],
   "source": [
    "for i in range(10):\n",
    "    a = input()\n",
    "    x = np.random.uniform(0, 37)\n",
    "    if 0 <= x < 18:\n",
    "        print('red')\n",
    "    elif 18 <= x < 36:\n",
    "        print('black')\n",
    "    else: print('zero')"
   ]
  },
  {
   "cell_type": "markdown",
   "metadata": {},
   "source": [
    "# 2.1. Напишите код, проверяющий любую из теорем сложения или умножения вероятности на примере рулетки или подбрасывания монетки.\n",
    "\n",
    "Ниже доказано, что чем больше число испытаний N, тем ближе относительная чистота W(A) к вероятности P(A)."
   ]
  },
  {
   "cell_type": "code",
   "execution_count": 50,
   "metadata": {},
   "outputs": [
    {
     "name": "stdout",
     "output_type": "stream",
     "text": [
      "P(A) для выпадения красного или зеленого цвета составляет: 48.65%. Для zero: 2.70%.\n",
      "N = 10: red: 4, W(A) = 40.00%; green: 6, W(A) = 60.00%; zero: 0, W(A) = 0.00%\n",
      "N = 100: red: 51, W(A) = 51.00%; green: 45, W(A) = 45.00%; zero: 4, W(A) = 4.00%\n",
      "N = 10000: red: 4868, W(A) = 48.68%; green: 4833, W(A) = 48.33%; zero: 299, W(A) = 2.99%\n"
     ]
    }
   ],
   "source": [
    "n1 = 10\n",
    "n2 = 100\n",
    "n3 = 10000\n",
    "\n",
    "print(f'P(A) для выпадения красного или зеленого цвета составляет: {\"%.2f\"%round((18/37*100), 2)}%. \\\n",
    "Для zero: {\"%.2f\"%round((1/37*100), 2)}%.')\n",
    "\n",
    "r, g, z = 0, 0, 0\n",
    "for i in range(0, n1):\n",
    "    x = np.random.uniform(0, 37)\n",
    "    if 0 <= x < 18:\n",
    "        r = r+1\n",
    "    elif 18 <= x < 36:\n",
    "        g = g+1\n",
    "    else: z = z+1\n",
    "\n",
    "print(f'N = 10: red: {r}, W(A) = {\"%.2f\"%round(r/n1*100)}%; green: {g}, W(A) = {\"%.2f\"%round(g/n1*100)}%; \\\n",
    "zero: {z}, W(A) = {\"%.2f\"%round(z/n1*100)}%')\n",
    "\n",
    "r, g, z = 0, 0, 0\n",
    "for i in range(0, n2):\n",
    "    x = np.random.uniform(0, 37)\n",
    "    if 0 <= x < 18:\n",
    "        r = r+1\n",
    "    elif 18 <= x < 36:\n",
    "        g = g+1\n",
    "    else: z = z+1\n",
    "\n",
    "print(f'N = 100: red: {r}, W(A) = {\"%.2f\"%round(r/n2*100)}%; green: {g}, W(A) = {\"%.2f\"%round(g/n2*100)}%; \\\n",
    "zero: {z}, W(A) = {\"%.2f\"%round(z/n2*100)}%')\n",
    "\n",
    "r, g, z = 0, 0, 0\n",
    "for i in range(0, n3):\n",
    "    x = np.random.uniform(0, 37)\n",
    "    if 0 <= x < 18:\n",
    "        r = r+1\n",
    "    elif 18 <= x < 36:\n",
    "        g = g+1\n",
    "    else: z = z+1\n",
    "\n",
    "print(f'N = 10000: red: {r}, W(A) = {\"%.2f\"%round((r/n3*100), 2)}%; green: {g}, W(A) = {\"%.2f\"%round((g/n3*100), 2)}%; \\\n",
    "zero: {z}, W(A) = {\"%.2f\"%round((z/n3*100), 2)}%')"
   ]
  },
  {
   "cell_type": "markdown",
   "metadata": {},
   "source": [
    "# 2.2. Сгенерируйте десять выборок случайных чисел х0, …, х9. и постройте гистограмму распределения случайной суммы  +х0+ …+ х 9."
   ]
  },
  {
   "cell_type": "code",
   "execution_count": 30,
   "metadata": {},
   "outputs": [
    {
     "data": {
      "text/plain": [
       "Text(0.5, 1.0, 'Histogram')"
      ]
     },
     "execution_count": 30,
     "metadata": {},
     "output_type": "execute_result"
    },
    {
     "data": {
      "image/png": "[encoded data removed]",
      "text/plain": [
       "<Figure size 432x288 with 1 Axes>"
      ]
     },
     "metadata": {
      "needs_background": "light"
     },
     "output_type": "display_data"
    }
   ],
   "source": [
    "%matplotlib inline\n",
    "import matplotlib.pyplot as plt\n",
    "\n",
    "x = []\n",
    "num_bins = 5\n",
    "\n",
    "for i in range(10):\n",
    "    i = np.random.rand(10)\n",
    "    x.append(sum(i))\n",
    "\n",
    "n, bins, patches = plt.hist(x, num_bins)\n",
    "plt.xlabel('sum_x')\n",
    "plt.title('Histogram')"
   ]
  },
  {
   "cell_type": "markdown",
   "metadata": {},
   "source": [
    "# 3.1. Дополните код Монте-Карло последовательности независимых испытаний расчетом соответствующих вероятностей (через биномиальное распределение) и сравните результаты."
   ]
  },
  {
   "cell_type": "code",
   "execution_count": 1,
   "metadata": {},
   "outputs": [],
   "source": [
    "import numpy as np\n",
    "import itertools"
   ]
  },
  {
   "cell_type": "code",
   "execution_count": 6,
   "metadata": {},
   "outputs": [
    {
     "name": "stdout",
     "output_type": "stream",
     "text": [
      "375917 1000000 0.375917\n"
     ]
    }
   ],
   "source": [
    "k, n = 0, 1000000\n",
    "a = np.random.randint(0, 2, n)\n",
    "b = np.random.randint(0, 2, n)\n",
    "c = np.random.randint(0, 2, n)\n",
    "d = np.random.randint(0, 2, n)\n",
    "x = a + b + c + d\n",
    "for i in range(0, n):\n",
    "    if x[i]==2:\n",
    "        k = k + 1\n",
    "print(k, n, k/n)"
   ]
  },
  {
   "cell_type": "code",
   "execution_count": 8,
   "metadata": {},
   "outputs": [
    {
     "name": "stdout",
     "output_type": "stream",
     "text": [
      "Вероятность выпадения 2х успехов на 4х испытаниях P(n)k по формуле Бернулли должна составлять: 0.375\n"
     ]
    }
   ],
   "source": [
    "import math\n",
    "\n",
    "cnk = math.factorial(4) / (math.factorial(2)*math.factorial(4 - 2))\n",
    "pnk = cnk/2**4\n",
    "\n",
    "print(f'Вероятность выпадения 2х успехов на 4х испытаниях P(n)k по формуле Бернулли должна составлять: {pnk}')"
   ]
  },
  {
   "cell_type": "markdown",
   "metadata": {},
   "source": [
    "# 3.2. Повторите расчеты биномиальных коэффициентов и вероятностей k успехов в последовательности из n независимых испытаний, взяв другие значения n и k."
   ]
  },
  {
   "cell_type": "code",
   "execution_count": 9,
   "metadata": {},
   "outputs": [
    {
     "name": "stdout",
     "output_type": "stream",
     "text": [
      "250224 1000000 0.250224\n"
     ]
    }
   ],
   "source": [
    "k, n = 0, 1000000\n",
    "a = np.random.randint(0, 2, n)\n",
    "b = np.random.randint(0, 2, n)\n",
    "c = np.random.randint(0, 2, n)\n",
    "d = np.random.randint(0, 2, n)\n",
    "x = a + b + c + d\n",
    "for i in range(0, n):\n",
    "    if x[i]==3:\n",
    "        k = k + 1\n",
    "print(k, n, k/n)"
   ]
  },
  {
   "cell_type": "code",
   "execution_count": 12,
   "metadata": {},
   "outputs": [
    {
     "name": "stdout",
     "output_type": "stream",
     "text": [
      "Вероятность выпадения 3х успехов на 4х испытаниях P(n)k по формуле Бернулли должна составлять: 0.25\n"
     ]
    }
   ],
   "source": [
    "cnk = math.factorial(4) / (math.factorial(3)*math.factorial(4 - 3))\n",
    "pnk = cnk/2**4\n",
    "\n",
    "print(f'Вероятность выпадения 3х успехов на 4х испытаниях P(n)k по формуле Бернулли должна составлять: {pnk}')"
   ]
  },
  {
   "cell_type": "markdown",
   "metadata": {},
   "source": [
    "# 4. (не обязательно, но желательно) Из урока по комбинаторике повторите расчеты, сгенерировав возможные варианты перестановок для других значений n и k"
   ]
  },
  {
   "cell_type": "code",
   "execution_count": 23,
   "metadata": {},
   "outputs": [
    {
     "name": "stdout",
     "output_type": "stream",
     "text": [
      "01\n",
      "02\n",
      "03\n",
      "10\n",
      "12\n",
      "13\n",
      "20\n",
      "21\n",
      "23\n",
      "30\n",
      "31\n",
      "32\n"
     ]
    }
   ],
   "source": [
    "for p in itertools.permutations(\"0123\", 2):\n",
    "    print(''.join(str(x) for x in p))"
   ]
  },
  {
   "cell_type": "code",
   "execution_count": 24,
   "metadata": {},
   "outputs": [
    {
     "name": "stdout",
     "output_type": "stream",
     "text": [
      "123\n",
      "124\n",
      "134\n",
      "234\n"
     ]
    }
   ],
   "source": [
    "for p in itertools.combinations(\"1234\", 3):\n",
    "    print(''.join(p))"
   ]
  },
  {
   "cell_type": "code",
   "execution_count": 17,
   "metadata": {},
   "outputs": [
    {
     "name": "stdout",
     "output_type": "stream",
     "text": [
      "00000\n",
      "00001\n",
      "00010\n",
      "00011\n",
      "00100\n",
      "00101\n",
      "00110\n",
      "00111\n",
      "01000\n",
      "01001\n",
      "01010\n",
      "01011\n",
      "01100\n",
      "01101\n",
      "01110\n",
      "01111\n",
      "10000\n",
      "10001\n",
      "10010\n",
      "10011\n",
      "10100\n",
      "10101\n",
      "10110\n",
      "10111\n",
      "11000\n",
      "11001\n",
      "11010\n",
      "11011\n",
      "11100\n",
      "11101\n",
      "11110\n",
      "11111\n"
     ]
    }
   ],
   "source": [
    "for p in itertools.product(\"01\", repeat=5):\n",
    "    print(''.join(p))"
   ]
  },
  {
   "cell_type": "code",
   "execution_count": null,
   "metadata": {},
   "outputs": [],
   "source": []
  }
 ],
 "metadata": {
  "kernelspec": {
   "display_name": "Python 3",
   "language": "python",
   "name": "python3"
  },
  "language_info": {
   "codemirror_mode": {
    "name": "ipython",
    "version": 3
   },
   "file_extension": ".py",
   "mimetype": "text/x-python",
   "name": "python",
   "nbconvert_exporter": "python",
   "pygments_lexer": "ipython3",
   "version": "3.7.6"
  }
 },
 "nbformat": 4,
 "nbformat_minor": 4
}
